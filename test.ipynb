{
    "cells": [
        {
            "metadata": {},
            "cell_type": "markdown",
            "source": "# Testing Data sets"
        },
        {
            "metadata": {
                "scrolled": true
            },
            "cell_type": "code",
            "source": "\nimport types\nimport pandas as pd\nfrom botocore.client import Config\nimport ibm_boto3\n\ndef __iter__(self): return 0\n\n# @hidden_cell\n# The following code accesses a file in your IBM Cloud Object Storage. It includes your credentials.\n# You might want to remove those credentials before you share the notebook.\nclient_580f48084b2a48478d60020c345c9099 = ibm_boto3.client(service_name='s3',\n    ibm_api_key_id='26sBA_lBZ8n5srhcqmhVvEjmtKuejDihN77Bcol6J7Cu',\n    ibm_auth_endpoint=\"https://iam.cloud.ibm.com/oidc/token\",\n    config=Config(signature_version='oauth'),\n    endpoint_url='https://s3.eu-geo.objectstorage.service.networklayer.com')\n\nbody = client_580f48084b2a48478d60020c345c9099.get_object(Bucket='deafult-donotdelete-pr-ipxcxj65zi1omb',Key='KCLT.csv')['Body']\n# add missing __iter__ method, so pandas accepts body as file-like object\nif not hasattr(body, \"__iter__\"): body.__iter__ = types.MethodType( __iter__, body )\n\ndf_data_1 = pd.read_csv(body)\ndf_data_1.head()\n",
            "execution_count": 1,
            "outputs": [
                {
                    "output_type": "execute_result",
                    "execution_count": 1,
                    "data": {
                        "text/plain": "       date  actual_mean_temp  actual_min_temp  actual_max_temp  \\\n0  2014-7-1                81               70               91   \n1  2014-7-2                85               74               95   \n2  2014-7-3                82               71               93   \n3  2014-7-4                75               64               86   \n4  2014-7-5                72               60               84   \n\n   average_min_temp  average_max_temp  record_min_temp  record_max_temp  \\\n0                67                89               56              104   \n1                68                89               56              101   \n2                68                89               56               99   \n3                68                89               55               99   \n4                68                89               57              100   \n\n   record_min_temp_year  record_max_temp_year  actual_precipitation  \\\n0                  1919                  2012                  0.00   \n1                  2008                  1931                  0.00   \n2                  2010                  1931                  0.14   \n3                  1933                  1955                  0.00   \n4                  1967                  1954                  0.00   \n\n   average_precipitation  record_precipitation  \n0                   0.10                  5.91  \n1                   0.10                  1.53  \n2                   0.11                  2.50  \n3                   0.10                  2.63  \n4                   0.10                  1.65  ",
                        "text/html": "<div>\n<style scoped>\n    .dataframe tbody tr th:only-of-type {\n        vertical-align: middle;\n    }\n\n    .dataframe tbody tr th {\n        vertical-align: top;\n    }\n\n    .dataframe thead th {\n        text-align: right;\n    }\n</style>\n<table border=\"1\" class=\"dataframe\">\n  <thead>\n    <tr style=\"text-align: right;\">\n      <th></th>\n      <th>date</th>\n      <th>actual_mean_temp</th>\n      <th>actual_min_temp</th>\n      <th>actual_max_temp</th>\n      <th>average_min_temp</th>\n      <th>average_max_temp</th>\n      <th>record_min_temp</th>\n      <th>record_max_temp</th>\n      <th>record_min_temp_year</th>\n      <th>record_max_temp_year</th>\n      <th>actual_precipitation</th>\n      <th>average_precipitation</th>\n      <th>record_precipitation</th>\n    </tr>\n  </thead>\n  <tbody>\n    <tr>\n      <th>0</th>\n      <td>2014-7-1</td>\n      <td>81</td>\n      <td>70</td>\n      <td>91</td>\n      <td>67</td>\n      <td>89</td>\n      <td>56</td>\n      <td>104</td>\n      <td>1919</td>\n      <td>2012</td>\n      <td>0.00</td>\n      <td>0.10</td>\n      <td>5.91</td>\n    </tr>\n    <tr>\n      <th>1</th>\n      <td>2014-7-2</td>\n      <td>85</td>\n      <td>74</td>\n      <td>95</td>\n      <td>68</td>\n      <td>89</td>\n      <td>56</td>\n      <td>101</td>\n      <td>2008</td>\n      <td>1931</td>\n      <td>0.00</td>\n      <td>0.10</td>\n      <td>1.53</td>\n    </tr>\n    <tr>\n      <th>2</th>\n      <td>2014-7-3</td>\n      <td>82</td>\n      <td>71</td>\n      <td>93</td>\n      <td>68</td>\n      <td>89</td>\n      <td>56</td>\n      <td>99</td>\n      <td>2010</td>\n      <td>1931</td>\n      <td>0.14</td>\n      <td>0.11</td>\n      <td>2.50</td>\n    </tr>\n    <tr>\n      <th>3</th>\n      <td>2014-7-4</td>\n      <td>75</td>\n      <td>64</td>\n      <td>86</td>\n      <td>68</td>\n      <td>89</td>\n      <td>55</td>\n      <td>99</td>\n      <td>1933</td>\n      <td>1955</td>\n      <td>0.00</td>\n      <td>0.10</td>\n      <td>2.63</td>\n    </tr>\n    <tr>\n      <th>4</th>\n      <td>2014-7-5</td>\n      <td>72</td>\n      <td>60</td>\n      <td>84</td>\n      <td>68</td>\n      <td>89</td>\n      <td>57</td>\n      <td>100</td>\n      <td>1967</td>\n      <td>1954</td>\n      <td>0.00</td>\n      <td>0.10</td>\n      <td>1.65</td>\n    </tr>\n  </tbody>\n</table>\n</div>"
                    },
                    "metadata": {}
                }
            ]
        },
        {
            "metadata": {},
            "cell_type": "code",
            "source": "",
            "execution_count": null,
            "outputs": []
        },
        {
            "metadata": {},
            "cell_type": "code",
            "source": "",
            "execution_count": null,
            "outputs": []
        }
    ],
    "metadata": {
        "kernelspec": {
            "name": "python3",
            "display_name": "Python 3.6",
            "language": "python"
        },
        "language_info": {
            "name": "python",
            "version": "3.6.9",
            "mimetype": "text/x-python",
            "codemirror_mode": {
                "name": "ipython",
                "version": 3
            },
            "pygments_lexer": "ipython3",
            "nbconvert_exporter": "python",
            "file_extension": ".py"
        }
    },
    "nbformat": 4,
    "nbformat_minor": 1
}